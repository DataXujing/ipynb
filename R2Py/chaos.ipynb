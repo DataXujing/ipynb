{
 "cells": [
  {
   "cell_type": "markdown",
   "metadata": {},
   "source": [
    "# R or Python"
   ]
  },
  {
   "cell_type": "markdown",
   "metadata": {},
   "source": [
    "# data load\n",
    "\n",
    "\n",
    "\n",
    "时间帐单 收集\n",
    "date\n",
    "\n",
    "    ,tI     输入\n",
    "    ,tO     输出\n",
    "    ,tC     交流\n",
    "    ,tM     杂务\n",
    "    ,tF     家庭\n",
    "    ,tS     睡眠             \n",
    "\n",
    "    Pt      蕃茄钟\n",
    "    ,Pd     DONE 蕃茄钟\n",
    "    ,Pl     LOST 任务钟\n",
    "    ,Po     OUT  蕃茄钟\n",
    "\n",
    "\n",
    "所以,要进行一系列数据整理先\n"
   ]
  },
  {
   "cell_type": "code",
   "execution_count": 61,
   "metadata": {
    "collapsed": false
   },
   "outputs": [
    {
     "name": "stdout",
     "output_type": "stream",
     "text": [
      "zq_1009.txt  zq_1011.txt  zq_1101.txt  zq_1103.txt  zq_1105.txt\r\n",
      "zq_1010.txt  zq_1012.txt  zq_1102.txt  zq_1104.txt  zq_1106.txt\r\n"
     ]
    }
   ],
   "source": [
    "ls data"
   ]
  },
  {
   "cell_type": "code",
   "execution_count": 56,
   "metadata": {
    "collapsed": true
   },
   "outputs": [],
   "source": [
    "import pandas as pd\n",
    "import numpy as np\n",
    "import matplotlib.pyplot as plt\n"
   ]
  },
  {
   "cell_type": "code",
   "execution_count": 65,
   "metadata": {
    "collapsed": false
   },
   "outputs": [
    {
     "data": {
      "text/html": [
       "<div style=\"max-height:1000px;max-width:1500px;overflow:auto;\">\n",
       "<table border=\"1\" class=\"dataframe\">\n",
       "  <thead>\n",
       "    <tr style=\"text-align: right;\">\n",
       "      <th></th>\n",
       "      <th>活动类别</th>\n",
       "      <th>持续时间</th>\n",
       "      <th>Percent</th>\n",
       "    </tr>\n",
       "  </thead>\n",
       "  <tbody>\n",
       "    <tr>\n",
       "      <th>0</th>\n",
       "      <td>Livin</td>\n",
       "      <td>196.57</td>\n",
       "      <td>25.6</td>\n",
       "    </tr>\n",
       "    <tr>\n",
       "      <th>1</th>\n",
       "      <td>Life</td>\n",
       "      <td>160.78</td>\n",
       "      <td>20.9</td>\n",
       "    </tr>\n",
       "    <tr>\n",
       "      <th>2</th>\n",
       "      <td>Works</td>\n",
       "      <td>156.63</td>\n",
       "      <td>20.4</td>\n",
       "    </tr>\n",
       "    <tr>\n",
       "      <th>3</th>\n",
       "      <td>Chaos</td>\n",
       "      <td>94.95</td>\n",
       "      <td>12.4</td>\n",
       "    </tr>\n",
       "    <tr>\n",
       "      <th>4</th>\n",
       "      <td>Input</td>\n",
       "      <td>21.03</td>\n",
       "      <td>2.7</td>\n",
       "    </tr>\n",
       "    <tr>\n",
       "      <th>5</th>\n",
       "      <td>其他</td>\n",
       "      <td>137.97</td>\n",
       "      <td>18.0</td>\n",
       "    </tr>\n",
       "    <tr>\n",
       "      <th>6</th>\n",
       "      <td>总计</td>\n",
       "      <td>768.00</td>\n",
       "      <td>NaN</td>\n",
       "    </tr>\n",
       "  </tbody>\n",
       "</table>\n",
       "</div>"
      ],
      "text/plain": [
       "     活动类别    持续时间  Percent\n",
       "0   Livin  196.57     25.6\n",
       "1    Life  160.78     20.9\n",
       "2  Works   156.63     20.4\n",
       "3   Chaos   94.95     12.4\n",
       "4   Input   21.03      2.7\n",
       "5      其他  137.97     18.0\n",
       "6      总计  768.00      NaN"
      ]
     },
     "execution_count": 65,
     "metadata": {},
     "output_type": "execute_result"
    }
   ],
   "source": [
    "pd.read_csv('data/atl2_150106-150201.csv')"
   ]
  }
 ],
 "metadata": {
  "kernelspec": {
   "display_name": "Python 2",
   "language": "python",
   "name": "python2"
  },
  "language_info": {
   "codemirror_mode": {
    "name": "ipython",
    "version": 2
   },
   "file_extension": ".py",
   "mimetype": "text/x-python",
   "name": "python",
   "nbconvert_exporter": "python",
   "pygments_lexer": "ipython2",
   "version": "2.7.9"
  }
 },
 "nbformat": 4,
 "nbformat_minor": 0
}
